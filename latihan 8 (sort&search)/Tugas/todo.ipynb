{
 "cells": [
  {
   "cell_type": "code",
   "execution_count": null,
   "metadata": {
    "vscode": {
     "languageId": "plaintext"
    }
   },
   "outputs": [],
   "source": [
    "\n",
    "1.\tMencari nilai yang hilang \n",
    "diberikan dua buah array:\n",
    "-\tArray 1= [3,5,6,7,8,10];\n",
    "-\tArray 2 = [5,6,7,8];\n",
    "Buatlah pseudocode ATAU Flowchart, kemudian buatlah code (program) dengan menggunakan Bahasa C++ untuk mencari solusi dari permasalahan di atas. \n",
    "CATATAN: sesuaikan apa yang ditulis di dalam soal dengan notasi pemprograman yang sesuai.\n",
    "\n",
    "Contoh:\n",
    "Input:\n",
    "arr1=[3,5,6,7,8,10];\n",
    "arr2=[5,6,7,8];\n",
    " \n",
    "Output:\n",
    "[3,10]\n",
    "\n",
    "\n",
    "\n",
    "2.\tBuatlah pseudocode dan code (program) untuk algoritma berikut:\n",
    "-\tBubble sort\n",
    "-\tSelection Sort\n",
    "-\tInsertion Sort\n",
    "\tContoh:\n",
    "\tInput:\n",
    "\tarr=[7,7,1,2,4,6,9,10,10,11,14,16,3];\n",
    "\tOutput:\n",
    "\tarr=[1,2,3,4,6,7,7,9,10,10,11,14,16];\n",
    "\n",
    "\n",
    "\n",
    "3.\tDari soal no. 2, tunjukkan perbandingan waktu (cost)  eksekusi\n"
   ]
  }
 ],
 "metadata": {
  "language_info": {
   "name": "python"
  },
  "orig_nbformat": 4
 },
 "nbformat": 4,
 "nbformat_minor": 2
}
